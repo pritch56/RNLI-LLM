{
 "cells": [
  {
   "cell_type": "markdown",
   "id": "38eed40a",
   "metadata": {},
   "source": [
    "# Main Pipeline\n",
    "Transcribe audio and analyze with LLM, outputting JSON."
   ]
  },
  {
   "cell_type": "code",
   "execution_count": 6,
   "id": "765b08dd",
   "metadata": {},
   "outputs": [],
   "source": [
    "# %pip install openai-whisper\n",
    "# %pip install pydub\n",
    "# %pip install SpeechRecognition"
   ]
  },
  {
   "cell_type": "code",
   "execution_count": 13,
   "id": "34ca943f",
   "metadata": {},
   "outputs": [],
   "source": [
    "import json  # For handling JSON data\n",
    "import requests  # For making HTTP requests to the LLM API\n",
    "import sys  # For system exit and error handling\n",
    "import os\n",
    "import tempfile\n",
    "from pydub import AudioSegment\n",
    "import argparse\n",
    "import sys\n",
    "import warnings\n",
    "import numpy as np\n",
    "import librosa\n",
    "import whisper\n"
   ]
  },
  {
   "cell_type": "code",
   "execution_count": 24,
   "id": "cdc20c2c",
   "metadata": {},
   "outputs": [
    {
     "ename": "ImportError",
     "evalue": "cannot import name 'transcribe_and_analyze' from 'No_FFMPEG' (c:\\RNLI-LLM\\RNLI_LLM\\Main\\No_FFMPEG.py)",
     "output_type": "error",
     "traceback": [
      "\u001b[31m---------------------------------------------------------------------------\u001b[39m",
      "\u001b[31mImportError\u001b[39m                               Traceback (most recent call last)",
      "\u001b[36mCell\u001b[39m\u001b[36m \u001b[39m\u001b[32mIn[24]\u001b[39m\u001b[32m, line 1\u001b[39m\n\u001b[32m----> \u001b[39m\u001b[32m1\u001b[39m \u001b[38;5;28;01mfrom\u001b[39;00m\u001b[38;5;250m \u001b[39m\u001b[34;01mNo_FFMPEG\u001b[39;00m\u001b[38;5;250m \u001b[39m\u001b[38;5;28;01mimport\u001b[39;00m transcribe_and_analyze\n\u001b[32m      2\u001b[39m \u001b[38;5;28;01mfrom\u001b[39;00m\u001b[38;5;250m \u001b[39m\u001b[34;01mLLM\u001b[39;00m\u001b[38;5;250m \u001b[39m\u001b[38;5;28;01mimport\u001b[39;00m call_mistral\n",
      "\u001b[31mImportError\u001b[39m: cannot import name 'transcribe_and_analyze' from 'No_FFMPEG' (c:\\RNLI-LLM\\RNLI_LLM\\Main\\No_FFMPEG.py)"
     ]
    }
   ],
   "source": [
    "from No_FFMPEG import transcribe_and_analyze\n",
    "from LLM import call_mistral\n"
   ]
  },
  {
   "cell_type": "code",
   "execution_count": null,
   "id": "b4a765fc",
   "metadata": {},
   "outputs": [],
   "source": [
    "def transcribe_and_analyze(input_audio_path: str, output_json_path: str, model_size: str = 'base', language: str = None):\n",
    "    \"\"\"Transcribes the audio, analyzes with LLM, and writes to JSON\"\"\"\n",
    "    transcript = transcribe_audio(input_audio_path, model_size, language)\n",
    "    llm_result = call_mistral(transcript)\n",
    "\n",
    "    output = {\n",
    "        \"transcript\": transcript,\n",
    "        \"llm_result\": llm_result\n",
    "    }\n",
    "\n",
    "    with open(output_json_path, 'w', encoding='utf-8') as f:\n",
    "        json.dump(output, f, ensure_ascii=False, indent=2)\n",
    "    \n",
    "    print(f\"Saved output to {output_json_path}\")\n",
    "    return output\n",
    "\n",
    "if __name__ == '__main__':\n",
    "    input_audio = '../input/LOTTIE_16.wav'\n",
    "    output_json = 'RNLI-LLM/RNLI_LLM/output/output.json'\n",
    "\n",
    "    transcribe_and_analyze(\n",
    "        input_audio_path=input_audio,\n",
    "        output_json_path=output_json,\n",
    "        model_size='base',\n",
    "        language='en'  # Or None to auto-detect\n",
    "    )"
   ]
  }
 ],
 "metadata": {
  "kernelspec": {
   "display_name": ".venv",
   "language": "python",
   "name": "python3"
  },
  "language_info": {
   "codemirror_mode": {
    "name": "ipython",
    "version": 3
   },
   "file_extension": ".py",
   "mimetype": "text/x-python",
   "name": "python",
   "nbconvert_exporter": "python",
   "pygments_lexer": "ipython3",
   "version": "3.12.10"
  }
 },
 "nbformat": 4,
 "nbformat_minor": 5
}
