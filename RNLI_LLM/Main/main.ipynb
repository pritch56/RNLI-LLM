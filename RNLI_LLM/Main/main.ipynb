{
 "cells": [
  {
   "cell_type": "markdown",
   "id": "38eed40a",
   "metadata": {},
   "source": [
    "# Main Pipeline\n",
    "Transcribe audio and analyze with LLM, outputting JSON."
   ]
  },
  {
   "cell_type": "code",
   "execution_count": 6,
   "id": "765b08dd",
   "metadata": {},
   "outputs": [],
   "source": [
    "# %pip install openai-whisper\n",
    "# %pip install pydub\n",
    "# %pip install SpeechRecognition"
   ]
  },
  {
   "cell_type": "code",
   "execution_count": 5,
   "id": "34ca943f",
   "metadata": {},
   "outputs": [],
   "source": [
    "import json  # For handling JSON data\n",
    "import requests  # For making HTTP requests to the LLM API\n",
    "import sys  # For system exit and error handling\n",
    "import os\n",
    "import tempfile\n",
    "from pydub import AudioSegment\n",
    "import argparse\n",
    "import sys\n",
    "import warnings\n",
    "import numpy as np\n",
    "import librosa\n",
    "import whisper\n"
   ]
  },
  {
   "cell_type": "code",
   "execution_count": null,
   "id": "cdc20c2c",
   "metadata": {},
   "outputs": [],
   "source": [
    "from No_FFMPEG import transcribe_audio\n",
    "from LLM import call_mistral\n"
   ]
  },
  {
   "cell_type": "code",
   "execution_count": 8,
   "id": "b4a765fc",
   "metadata": {},
   "outputs": [
    {
     "name": "stdout",
     "output_type": "stream",
     "text": [
      "Loaded Whisper model: base\n",
      "Structured JSON written to ../output/output.json\n",
      "{\n",
      "  \"ship_name\": {\n",
      "    \"value\": \"Lotty\",\n",
      "    \"confidence\": 1.0\n",
      "  },\n",
      "  \"position\": {\n",
      "    \"value\": \"32 degrees, 47 minutes North, 170 degrees, 15 West, 20 miles of Exeter\",\n",
      "    \"confidence\": 1.0\n",
      "  },\n",
      "  \"number_of_people\": {\n",
      "    \"value\": 6,\n",
      "    \"confidence\": 1.0\n",
      "  },\n",
      "  \"injuries\": {\n",
      "    \"value\": \"One injured\",\n",
      "    \"confidence\": 1.0\n",
      "  },\n",
      "  \"distress_type\": {\n",
      "    \"value\": \"Taking on water, lost power\",\n",
      "    \"confidence\": 1.0\n",
      "  },\n",
      "  \"boat_name\": {\n",
      "    \"value\": \"Lotty\",\n",
      "    \"confidence\": 1.0\n",
      "  }\n",
      "}\n",
      "Saved output to ../output/output.json\n"
     ]
    }
   ],
   "source": [
    "def transcribe_and_analyze(input_audio_path: str, output_json_path: str, model_size: str = 'base', language: str = 'en'):\n",
    "    \"\"\"Transcribes the audio, analyzes with LLM, and writes to JSON\"\"\"\n",
    "    transcript = transcribe_audio(input_audio_path, model_size, language)\n",
    "    data = call_mistral(transcript)\n",
    "\n",
    "    output = {\n",
    "        \"transcript\": transcript,\n",
    "        #\"llm_result\": llm_result\n",
    "    }\n",
    "\n",
    "    with open(output_json_path, 'w', encoding='utf-8') as jf:\n",
    "        json.dump(data, jf, indent=2, ensure_ascii=False)\n",
    "    print(f\"Structured JSON written to {output_json_path}\")\n",
    "    print(json.dumps(data, indent=2, ensure_ascii=False))   \n",
    "    print(f\"Saved output to {output_json_path}\")\n",
    "    return output\n",
    "\n",
    "if __name__ == '__main__':\n",
    "    input_audio = '../input/LOTTIE_16.wav'\n",
    "    output_json = '../output/output.json'\n",
    "\n",
    "    transcribe_and_analyze(\n",
    "        input_audio_path=input_audio,\n",
    "        output_json_path=output_json,\n",
    "        model_size='base',\n",
    "        language='en'  # Or None to auto-detect\n",
    "    )"
   ]
  }
 ],
 "metadata": {
  "kernelspec": {
   "display_name": ".venv",
   "language": "python",
   "name": "python3"
  },
  "language_info": {
   "codemirror_mode": {
    "name": "ipython",
    "version": 3
   },
   "file_extension": ".py",
   "mimetype": "text/x-python",
   "name": "python",
   "nbconvert_exporter": "python",
   "pygments_lexer": "ipython3",
   "version": "3.12.10"
  }
 },
 "nbformat": 4,
 "nbformat_minor": 5
}
