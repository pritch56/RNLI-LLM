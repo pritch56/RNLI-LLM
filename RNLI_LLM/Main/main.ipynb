{
 "cells": [
  {
   "cell_type": "markdown",
   "id": "38eed40a",
   "metadata": {},
   "source": [
    "# Main Pipeline\n",
    "Transcribe audio and analyze with LLM, outputting JSON."
   ]
  },
  {
   "cell_type": "code",
   "execution_count": 6,
   "id": "765b08dd",
   "metadata": {},
   "outputs": [],
   "source": [
    "# %pip install openai-whisper\n",
    "# %pip install pydub\n",
    "# %pip install SpeechRecognition"
   ]
  },
  {
   "cell_type": "code",
   "execution_count": 13,
   "id": "34ca943f",
   "metadata": {},
   "outputs": [],
   "source": [
    "import json  # For handling JSON data\n",
    "import requests  # For making HTTP requests to the LLM API\n",
    "import sys  # For system exit and error handling\n",
    "import os\n",
    "import tempfile\n",
    "from pydub import AudioSegment\n",
    "import argparse\n",
    "import sys\n",
    "import warnings\n",
    "import numpy as np\n",
    "import librosa\n",
    "import whisper\n"
   ]
  },
  {
   "cell_type": "code",
   "execution_count": 1,
   "id": "cdc20c2c",
   "metadata": {},
   "outputs": [],
   "source": [
    "from No_FFMPEG import transcribe_audio\n",
    "from LLM import call_mistral\n"
   ]
  },
  {
   "cell_type": "code",
   "execution_count": null,
   "id": "b4a765fc",
   "metadata": {},
   "outputs": [
    {
     "name": "stdout",
     "output_type": "stream",
     "text": [
      "Loaded Whisper model: base\n"
     ]
    },
    {
     "ename": "FileNotFoundError",
     "evalue": "[Errno 2] No such file or directory: 'RNLI_LLM/output/output.json'",
     "output_type": "error",
     "traceback": [
      "\u001b[31m---------------------------------------------------------------------------\u001b[39m",
      "\u001b[31mFileNotFoundError\u001b[39m                         Traceback (most recent call last)",
      "\u001b[36mCell\u001b[39m\u001b[36m \u001b[39m\u001b[32mIn[3]\u001b[39m\u001b[32m, line 21\u001b[39m\n\u001b[32m     18\u001b[39m input_audio = \u001b[33m'\u001b[39m\u001b[33m../input/LOTTIE_16.wav\u001b[39m\u001b[33m'\u001b[39m\n\u001b[32m     19\u001b[39m output_json = \u001b[33m'\u001b[39m\u001b[33mRNLI_LLM/output/output.json\u001b[39m\u001b[33m'\u001b[39m\n\u001b[32m---> \u001b[39m\u001b[32m21\u001b[39m \u001b[43mtranscribe_and_analyze\u001b[49m\u001b[43m(\u001b[49m\n\u001b[32m     22\u001b[39m \u001b[43m    \u001b[49m\u001b[43minput_audio_path\u001b[49m\u001b[43m=\u001b[49m\u001b[43minput_audio\u001b[49m\u001b[43m,\u001b[49m\n\u001b[32m     23\u001b[39m \u001b[43m    \u001b[49m\u001b[43moutput_json_path\u001b[49m\u001b[43m=\u001b[49m\u001b[43moutput_json\u001b[49m\u001b[43m,\u001b[49m\n\u001b[32m     24\u001b[39m \u001b[43m    \u001b[49m\u001b[43mmodel_size\u001b[49m\u001b[43m=\u001b[49m\u001b[33;43m'\u001b[39;49m\u001b[33;43mbase\u001b[39;49m\u001b[33;43m'\u001b[39;49m\u001b[43m,\u001b[49m\n\u001b[32m     25\u001b[39m \u001b[43m    \u001b[49m\u001b[43mlanguage\u001b[49m\u001b[43m=\u001b[49m\u001b[33;43m'\u001b[39;49m\u001b[33;43men\u001b[39;49m\u001b[33;43m'\u001b[39;49m\u001b[43m  \u001b[49m\u001b[38;5;66;43;03m# Or None to auto-detect\u001b[39;49;00m\n\u001b[32m     26\u001b[39m \u001b[43m\u001b[49m\u001b[43m)\u001b[49m\n",
      "\u001b[36mCell\u001b[39m\u001b[36m \u001b[39m\u001b[32mIn[3]\u001b[39m\u001b[32m, line 11\u001b[39m, in \u001b[36mtranscribe_and_analyze\u001b[39m\u001b[34m(input_audio_path, output_json_path, model_size, language)\u001b[39m\n\u001b[32m      4\u001b[39m llm_result = call_mistral(transcript)\n\u001b[32m      6\u001b[39m output = {\n\u001b[32m      7\u001b[39m     \u001b[33m\"\u001b[39m\u001b[33mtranscript\u001b[39m\u001b[33m\"\u001b[39m: transcript,\n\u001b[32m      8\u001b[39m     \u001b[33m\"\u001b[39m\u001b[33mllm_result\u001b[39m\u001b[33m\"\u001b[39m: llm_result\n\u001b[32m      9\u001b[39m }\n\u001b[32m---> \u001b[39m\u001b[32m11\u001b[39m \u001b[38;5;28;01mwith\u001b[39;00m \u001b[38;5;28;43mopen\u001b[39;49m\u001b[43m(\u001b[49m\u001b[43moutput_json_path\u001b[49m\u001b[43m,\u001b[49m\u001b[43m \u001b[49m\u001b[33;43m'\u001b[39;49m\u001b[33;43mw\u001b[39;49m\u001b[33;43m'\u001b[39;49m\u001b[43m,\u001b[49m\u001b[43m \u001b[49m\u001b[43mencoding\u001b[49m\u001b[43m=\u001b[49m\u001b[33;43m'\u001b[39;49m\u001b[33;43mutf-8\u001b[39;49m\u001b[33;43m'\u001b[39;49m\u001b[43m)\u001b[49m \u001b[38;5;28;01mas\u001b[39;00m f:\n\u001b[32m     12\u001b[39m     json.dump(output, f, ensure_ascii=\u001b[38;5;28;01mFalse\u001b[39;00m, indent=\u001b[32m2\u001b[39m)\n\u001b[32m     14\u001b[39m \u001b[38;5;28mprint\u001b[39m(\u001b[33mf\u001b[39m\u001b[33m\"\u001b[39m\u001b[33mSaved output to \u001b[39m\u001b[38;5;132;01m{\u001b[39;00moutput_json_path\u001b[38;5;132;01m}\u001b[39;00m\u001b[33m\"\u001b[39m)\n",
      "\u001b[36mFile \u001b[39m\u001b[32mc:\\RNLI-LLM\\.venv\\Lib\\site-packages\\IPython\\core\\interactiveshell.py:343\u001b[39m, in \u001b[36m_modified_open\u001b[39m\u001b[34m(file, *args, **kwargs)\u001b[39m\n\u001b[32m    336\u001b[39m \u001b[38;5;28;01mif\u001b[39;00m file \u001b[38;5;129;01min\u001b[39;00m {\u001b[32m0\u001b[39m, \u001b[32m1\u001b[39m, \u001b[32m2\u001b[39m}:\n\u001b[32m    337\u001b[39m     \u001b[38;5;28;01mraise\u001b[39;00m \u001b[38;5;167;01mValueError\u001b[39;00m(\n\u001b[32m    338\u001b[39m         \u001b[33mf\u001b[39m\u001b[33m\"\u001b[39m\u001b[33mIPython won\u001b[39m\u001b[33m'\u001b[39m\u001b[33mt let you open fd=\u001b[39m\u001b[38;5;132;01m{\u001b[39;00mfile\u001b[38;5;132;01m}\u001b[39;00m\u001b[33m by default \u001b[39m\u001b[33m\"\u001b[39m\n\u001b[32m    339\u001b[39m         \u001b[33m\"\u001b[39m\u001b[33mas it is likely to crash IPython. If you know what you are doing, \u001b[39m\u001b[33m\"\u001b[39m\n\u001b[32m    340\u001b[39m         \u001b[33m\"\u001b[39m\u001b[33myou can use builtins\u001b[39m\u001b[33m'\u001b[39m\u001b[33m open.\u001b[39m\u001b[33m\"\u001b[39m\n\u001b[32m    341\u001b[39m     )\n\u001b[32m--> \u001b[39m\u001b[32m343\u001b[39m \u001b[38;5;28;01mreturn\u001b[39;00m \u001b[43mio_open\u001b[49m\u001b[43m(\u001b[49m\u001b[43mfile\u001b[49m\u001b[43m,\u001b[49m\u001b[43m \u001b[49m\u001b[43m*\u001b[49m\u001b[43margs\u001b[49m\u001b[43m,\u001b[49m\u001b[43m \u001b[49m\u001b[43m*\u001b[49m\u001b[43m*\u001b[49m\u001b[43mkwargs\u001b[49m\u001b[43m)\u001b[49m\n",
      "\u001b[31mFileNotFoundError\u001b[39m: [Errno 2] No such file or directory: 'RNLI_LLM/output/output.json'"
     ]
    }
   ],
   "source": [
    "def transcribe_and_analyze(input_audio_path: str, output_json_path: str, model_size: str = 'base', language: str = None):\n",
    "    \"\"\"Transcribes the audio, analyzes with LLM, and writes to JSON\"\"\"\n",
    "    transcript = transcribe_audio(input_audio_path, model_size, language)\n",
    "    llm_result = call_mistral(transcript)\n",
    "\n",
    "    output = {\n",
    "        \"transcript\": transcript,\n",
    "        \"llm_result\": llm_result\n",
    "    }\n",
    "\n",
    "    with open(output_json_path, 'w', encoding='utf-8') as f:\n",
    "        json.dump(output, f, ensure_ascii=False, indent=2)\n",
    "    \n",
    "    print(f\"Saved output to {output_json_path}\")\n",
    "    return output\n",
    "\n",
    "if __name__ == '__main__':\n",
    "    input_audio = '../input/LOTTIE_16.wav'\n",
    "    output_json = '../output/output.json'\n",
    "\n",
    "    transcribe_and_analyze(\n",
    "        input_audio_path=input_audio,\n",
    "        output_json_path=output_json,\n",
    "        model_size='base',\n",
    "        language='en'  # Or None to auto-detect\n",
    "    )"
   ]
  }
 ],
 "metadata": {
  "kernelspec": {
   "display_name": ".venv",
   "language": "python",
   "name": "python3"
  },
  "language_info": {
   "codemirror_mode": {
    "name": "ipython",
    "version": 3
   },
   "file_extension": ".py",
   "mimetype": "text/x-python",
   "name": "python",
   "nbconvert_exporter": "python",
   "pygments_lexer": "ipython3",
   "version": "3.12.10"
  }
 },
 "nbformat": 4,
 "nbformat_minor": 5
}
